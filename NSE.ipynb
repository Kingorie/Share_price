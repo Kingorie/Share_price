{
 "cells": [
  {
   "cell_type": "markdown",
   "id": "9e350956",
   "metadata": {},
   "source": [
    "# from selenium import webdriver\n",
    "from selenium.webdriver.common.by import By\n",
    "import schedule\n",
    "import pandas as pd"
   ]
  },
  {
   "cell_type": "code",
   "execution_count": null,
   "id": "7a827b09",
   "metadata": {},
   "outputs": [],
   "source": [
    "from selenium import webdriver\n",
    "from selenium.webdriver.common.by import By\n",
    "import schedule\n",
    "import pandas as pd\n",
    "import time "
   ]
  },
  {
   "cell_type": "code",
   "execution_count": null,
   "id": "a61506e1",
   "metadata": {},
   "outputs": [],
   "source": [
    "driver = webdriver.Chrome()\n",
    "driver.get('https://www.rich.co.ke/rcdata/nsestocks.php')\n",
    "driver.maximize_window\n",
    "#driver.close()"
   ]
  },
  {
   "cell_type": "code",
   "execution_count": null,
   "id": "cb59687c",
   "metadata": {},
   "outputs": [],
   "source": [
    "stocks = driver.find_elements(By.XPATH, '//tr/td/a')[11:75]\n",
    "prev = driver.find_elements(By.XPATH, '//tr/td[3]')[2:]\n",
    "now = driver.find_elements(By.XPATH, '//tr/td[4]')[1:]\n",
    "percentage = driver.find_elements(By.XPATH, '//tr/td[5]')[1:]\n",
    "volume = driver.find_elements(By.XPATH, '//tr/td[7]')[1:]\n",
    "\n",
    "\n",
    "\"\"\"\n",
    "# To confirm if code works:\n",
    "\n",
    "for stocks in stocks:\n",
    "     print(stocks.text) \n",
    "    \n",
    "\"\"\""
   ]
  },
  {
   "cell_type": "code",
   "execution_count": null,
   "id": "975975de",
   "metadata": {},
   "outputs": [],
   "source": [
    "print(len(stocks))\n",
    "print(len(prev))\n",
    "print(len(now))\n",
    "print(len(prev))"
   ]
  },
  {
   "cell_type": "code",
   "execution_count": null,
   "id": "fc6c078b",
   "metadata": {},
   "outputs": [],
   "source": [
    "# To loop over all lists and get text elements:\n",
    "\n",
    "\n",
    "stock_result = []\n",
    "\n",
    "# to get length of the rows. Can use len(countries, popultaion or world_share)\n",
    "\n",
    "for i in range(len(volume)):\n",
    "    temporary_data = {\n",
    "        'stocks': stocks[i].text,\n",
    "        'prev': prev[i].text,\n",
    "        'now': now[i].text,\n",
    "        'percentage': percentage[i].text,\n",
    "        'volume': volume[i].text}\n",
    "\n",
    "    stock_result.append(temporary_data)\n",
    "\n"
   ]
  },
  {
   "cell_type": "code",
   "execution_count": null,
   "id": "4171a2b3",
   "metadata": {},
   "outputs": [],
   "source": [
    "\n",
    "df = pd.DataFrame(stock_result)\n",
    "df"
   ]
  },
  {
   "cell_type": "code",
   "execution_count": null,
   "id": "90491ee1",
   "metadata": {},
   "outputs": [],
   "source": [
    "df.to_excel('nse_share_prices.xlsx', index=False)"
   ]
  },
  {
   "cell_type": "code",
   "execution_count": null,
   "id": "2a2bed38",
   "metadata": {},
   "outputs": [],
   "source": [
    "driver.close()"
   ]
  },
  {
   "cell_type": "code",
   "execution_count": null,
   "id": "4ff5b88f",
   "metadata": {},
   "outputs": [],
   "source": [
    "import datetime\n",
    "def _getToday():\n",
    "        return datetime.date.today().strftime(\"%Y%m%d\")\n",
    "outpath = r\"D:\\OneDrive\\Documents\\SQL\\PostgreSQL\\Python\\Projects\\NSE_Data\"\n",
    "filename = \"%s_%s%s\" % (\"nse_share_prices\", _getToday() ,\".xlsx\")\n",
    "filename_1 = outpath + \"\\\\\" + filename\n",
    "filename_1"
   ]
  },
  {
   "cell_type": "code",
   "execution_count": 18,
   "id": "425f6391",
   "metadata": {},
   "outputs": [
    {
     "name": "stdout",
     "output_type": "stream",
     "text": [
      "Before copying file:\n",
      "D:\\OneDrive\\Documents\\SQL\\PostgreSQL\\Python\\Projects\\NSE_Data\\nse_share_prices.xlsx\n",
      "\n",
      "After copying file:\n",
      "D:\\OneDrive\\Documents\\SQL\\PostgreSQL\\Python\\Projects\\NSE_Data\\nse_share_prices_20221117.xlsx\n"
     ]
    }
   ],
   "source": [
    "# Python program to create the duplicate of\n",
    "# an already existing file\n",
    "\n",
    "import os\n",
    "D = r\"D:\\OneDrive\\Documents\\SQL\\PostgreSQL\\Python\\Projects\\NSE_Data\"\n",
    "\n",
    "# importing the shutil module\n",
    "import shutil\n",
    "\n",
    "\n",
    "\"\"\"print(\"Before copying file:\")\n",
    "print(os.listdir(D))\"\"\"\n",
    "\n",
    "# src contains the path of the source file\n",
    "src = r\"D:\\OneDrive\\Documents\\SQL\\PostgreSQL\\Python\\Projects\\NSE_Data\\nse_share_prices.xlsx\"\n",
    "\n",
    "# dest contains the path of the destination file\n",
    "dest = filename_1\n",
    "\n",
    "# create duplicate of the file at the destination,\n",
    "# with the name mentioned\n",
    "# at the end of the destination path\n",
    "# if a file with the same name doesn't already\n",
    "# exist at the destination,\n",
    "# a new file with the name mentioned is created\n",
    "path = shutil.copyfile(src, dest)\n",
    "\n",
    "\"\"\"print(\"After copying file:\")\n",
    "print(os.listdir(D))\"\"\"\n",
    "\n",
    "# print path of the newly created duplicate file\n",
    "print(\"Before copying file:\")\n",
    "print(src)\n",
    "\n",
    "print()\n",
    "\n",
    "\n",
    "# create duplicate of the file at the destination,\n",
    "# with the name mentioned\n",
    "# at the end of the destination path\n",
    "# if a file with the same name doesn't already\n",
    "# exist at the destination,\n",
    "# a new file with the name mentioned is created\n",
    "path = shutil.copyfile(src, dest)\n",
    "\n",
    "print(\"After copying file:\")\n",
    "print(path)"
   ]
  }
 ],
 "metadata": {
  "kernelspec": {
   "display_name": "Python 3.10.5 64-bit",
   "language": "python",
   "name": "python3"
  },
  "language_info": {
   "codemirror_mode": {
    "name": "ipython",
    "version": 3
   },
   "file_extension": ".py",
   "mimetype": "text/x-python",
   "name": "python",
   "nbconvert_exporter": "python",
   "pygments_lexer": "ipython3",
   "version": "3.10.5"
  },
  "vscode": {
   "interpreter": {
    "hash": "2c632cac62f4c33a0073873885e2174fa09ecccfcde06467475ed6b6486d1ae7"
   }
  }
 },
 "nbformat": 4,
 "nbformat_minor": 5
}
