{
 "cells": [
  {
   "cell_type": "code",
   "execution_count": null,
   "id": "85feec72",
   "metadata": {},
   "outputs": [],
   "source": [
    "from selenium import webdriver\n",
    "from selenium.webdriver.common.by import By\n",
    "import pandas as pd"
   ]
  },
  {
   "cell_type": "code",
   "execution_count": null,
   "id": "a61506e1",
   "metadata": {},
   "outputs": [],
   "source": [
    "driver = webdriver.Chrome(\"C:\\webdrivers\\chromedriver.exe\")\n",
    "driver.get('https://www.rich.co.ke/rcdata/nsestocks.php')\n",
    "driver.maximize_window\n",
    "#driver.close()"
   ]
  },
  {
   "cell_type": "code",
   "execution_count": null,
   "id": "cb59687c",
   "metadata": {},
   "outputs": [],
   "source": [
    "stocks = driver.find_elements(By.XPATH, '//tr/td/a')[11:75]\n",
    "prev = driver.find_elements(By.XPATH, '//tr/td[3]')[2:]\n",
    "now = driver.find_elements(By.XPATH, '//tr/td[4]')[1:]\n",
    "percentage = driver.find_elements(By.XPATH, '//tr/td[5]')[1:]\n",
    "volume = driver.find_elements(By.XPATH, '//tr/td[7]')[1:]\n",
    "\n",
    "\n",
    "\"\"\"\n",
    "# To confirm if code works:\n",
    "\n",
    "for stocks in stocks:\n",
    "     print(stocks.text) \n",
    "    \n",
    "\"\"\""
   ]
  },
  {
   "cell_type": "code",
   "execution_count": null,
   "id": "975975de",
   "metadata": {},
   "outputs": [],
   "source": [
    "print(len(stocks))\n",
    "print(len(prev))\n",
    "print(len(now))\n",
    "print(len(prev))"
   ]
  },
  {
   "cell_type": "code",
   "execution_count": null,
   "id": "fc6c078b",
   "metadata": {},
   "outputs": [],
   "source": [
    "# To loop over all lists and get text elements:\n",
    "\n",
    "\n",
    "stock_result = []\n",
    "\n",
    "# to get length of the rows. Can use len(countries, popultaion or world_share)\n",
    "\n",
    "for i in range(len(volume)):\n",
    "    temporary_data = {\n",
    "        'stocks': stocks[i].text,\n",
    "        'prev': prev[i].text,\n",
    "        'now': now[i].text,\n",
    "        'percentage': percentage[i].text,\n",
    "        'volume': volume[i].text}\n",
    "\n",
    "    stock_result.append(temporary_data)"
   ]
  },
  {
   "cell_type": "code",
   "execution_count": null,
   "id": "4171a2b3",
   "metadata": {},
   "outputs": [],
   "source": [
    "\n",
    "df = pd.DataFrame(stock_result)\n",
    "df"
   ]
  },
  {
   "cell_type": "code",
   "execution_count": null,
   "id": "ba6c5bde",
   "metadata": {},
   "outputs": [],
   "source": [
    "df.to_excel('nse_share_prices.xlsx', index=False)"
   ]
  },
  {
   "cell_type": "code",
   "execution_count": null,
   "id": "2a2bed38",
   "metadata": {},
   "outputs": [],
   "source": [
    "driver.close()"
   ]
  }
 ],
 "metadata": {
  "kernelspec": {
   "display_name": "Python 3 (ipykernel)",
   "language": "python",
   "name": "python3"
  },
  "language_info": {
   "codemirror_mode": {
    "name": "ipython",
    "version": 3
   },
   "file_extension": ".py",
   "mimetype": "text/x-python",
   "name": "python",
   "nbconvert_exporter": "python",
   "pygments_lexer": "ipython3",
   "version": "3.9.12"
  }
 },
 "nbformat": 4,
 "nbformat_minor": 5
}
