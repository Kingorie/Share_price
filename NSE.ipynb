{
 "cells": [
  {
   "cell_type": "markdown",
   "id": "9e350956",
   "metadata": {},
   "source": [
    "# from selenium import webdriver\n",
    "from selenium.webdriver.common.by import By\n",
    "import schedule\n",
    "import pandas as pd"
   ]
  },
  {
   "cell_type": "code",
   "execution_count": 1,
   "id": "7a827b09",
   "metadata": {},
   "outputs": [],
   "source": [
    "from selenium import webdriver\n",
    "from selenium.webdriver.common.by import By\n",
    "import schedule\n",
    "import pandas as pd\n",
    "import time "
   ]
  },
  {
   "cell_type": "code",
   "execution_count": 2,
   "id": "a61506e1",
   "metadata": {},
   "outputs": [
    {
     "data": {
      "text/plain": [
       "<bound method WebDriver.maximize_window of <selenium.webdriver.chrome.webdriver.WebDriver (session=\"6e774d8b29c3f69762985500b25c4115\")>>"
      ]
     },
     "execution_count": 2,
     "metadata": {},
     "output_type": "execute_result"
    }
   ],
   "source": [
    "driver = webdriver.Chrome()\n",
    "driver.get('https://www.rich.co.ke/rcdata/nsestocks.php')\n",
    "driver.maximize_window\n",
    "#driver.close()"
   ]
  },
  {
   "cell_type": "code",
   "execution_count": 3,
   "id": "cb59687c",
   "metadata": {},
   "outputs": [
    {
     "data": {
      "text/plain": [
       "'\\n# To confirm if code works:\\n\\nfor stocks in stocks:\\n     print(stocks.text) \\n    \\n'"
      ]
     },
     "execution_count": 3,
     "metadata": {},
     "output_type": "execute_result"
    }
   ],
   "source": [
    "stocks = driver.find_elements(By.XPATH, '//tr/td/a')[11:75]\n",
    "prev = driver.find_elements(By.XPATH, '//tr/td[3]')[2:]\n",
    "now = driver.find_elements(By.XPATH, '//tr/td[4]')[1:]\n",
    "percentage = driver.find_elements(By.XPATH, '//tr/td[5]')[1:]\n",
    "volume = driver.find_elements(By.XPATH, '//tr/td[7]')[1:]\n",
    "\n",
    "\n",
    "\"\"\"\n",
    "# To confirm if code works:\n",
    "\n",
    "for stocks in stocks:\n",
    "     print(stocks.text) \n",
    "    \n",
    "\"\"\""
   ]
  },
  {
   "cell_type": "code",
   "execution_count": 4,
   "id": "975975de",
   "metadata": {},
   "outputs": [
    {
     "name": "stdout",
     "output_type": "stream",
     "text": [
      "64\n",
      "64\n",
      "63\n",
      "64\n"
     ]
    }
   ],
   "source": [
    "print(len(stocks))\n",
    "print(len(prev))\n",
    "print(len(now))\n",
    "print(len(prev))"
   ]
  },
  {
   "cell_type": "code",
   "execution_count": 5,
   "id": "fc6c078b",
   "metadata": {},
   "outputs": [],
   "source": [
    "# To loop over all lists and get text elements:\n",
    "\n",
    "\n",
    "stock_result = []\n",
    "\n",
    "# to get length of the rows. Can use len(countries, popultaion or world_share)\n",
    "\n",
    "for i in range(len(volume)):\n",
    "    temporary_data = {\n",
    "        'stocks': stocks[i].text,\n",
    "        'prev': prev[i].text,\n",
    "        'now': now[i].text,\n",
    "        'percentage': percentage[i].text,\n",
    "        'volume': volume[i].text}\n",
    "\n",
    "    stock_result.append(temporary_data)\n",
    "\n"
   ]
  },
  {
   "cell_type": "code",
   "execution_count": 6,
   "id": "4171a2b3",
   "metadata": {},
   "outputs": [
    {
     "data": {
      "text/html": [
       "<div>\n",
       "<style scoped>\n",
       "    .dataframe tbody tr th:only-of-type {\n",
       "        vertical-align: middle;\n",
       "    }\n",
       "\n",
       "    .dataframe tbody tr th {\n",
       "        vertical-align: top;\n",
       "    }\n",
       "\n",
       "    .dataframe thead th {\n",
       "        text-align: right;\n",
       "    }\n",
       "</style>\n",
       "<table border=\"1\" class=\"dataframe\">\n",
       "  <thead>\n",
       "    <tr style=\"text-align: right;\">\n",
       "      <th></th>\n",
       "      <th>stocks</th>\n",
       "      <th>prev</th>\n",
       "      <th>now</th>\n",
       "      <th>percentage</th>\n",
       "      <th>volume</th>\n",
       "    </tr>\n",
       "  </thead>\n",
       "  <tbody>\n",
       "    <tr>\n",
       "      <th>0</th>\n",
       "      <td>B.O.C Kenya Ltd.</td>\n",
       "      <td>77.00</td>\n",
       "      <td>82.75</td>\n",
       "      <td>7.47%</td>\n",
       "      <td>600</td>\n",
       "    </tr>\n",
       "    <tr>\n",
       "      <th>1</th>\n",
       "      <td>TPS Eastern Africa Ltd. (Serena)</td>\n",
       "      <td>15.15</td>\n",
       "      <td>16.00</td>\n",
       "      <td>5.61%</td>\n",
       "      <td>3,000</td>\n",
       "    </tr>\n",
       "    <tr>\n",
       "      <th>2</th>\n",
       "      <td>Trans-Century</td>\n",
       "      <td>1.10</td>\n",
       "      <td>1.16</td>\n",
       "      <td>5.45%</td>\n",
       "      <td>2,500</td>\n",
       "    </tr>\n",
       "    <tr>\n",
       "      <th>3</th>\n",
       "      <td>Liberty Kenya Holdings.</td>\n",
       "      <td>5.22</td>\n",
       "      <td>5.50</td>\n",
       "      <td>5.36%</td>\n",
       "      <td>400</td>\n",
       "    </tr>\n",
       "    <tr>\n",
       "      <th>4</th>\n",
       "      <td>Stanbic Holdings Plc</td>\n",
       "      <td>95.00</td>\n",
       "      <td>100.00</td>\n",
       "      <td>5.26%</td>\n",
       "      <td>1,000</td>\n",
       "    </tr>\n",
       "    <tr>\n",
       "      <th>...</th>\n",
       "      <td>...</td>\n",
       "      <td>...</td>\n",
       "      <td>...</td>\n",
       "      <td>...</td>\n",
       "      <td>...</td>\n",
       "    </tr>\n",
       "    <tr>\n",
       "      <th>57</th>\n",
       "      <td>Kenya Power &amp; Lighting Company Ltd.</td>\n",
       "      <td>1.94</td>\n",
       "      <td>1.84</td>\n",
       "      <td>-5.15%</td>\n",
       "      <td>2,683,400</td>\n",
       "    </tr>\n",
       "    <tr>\n",
       "      <th>58</th>\n",
       "      <td>Eaagads Ltd.</td>\n",
       "      <td>11.60</td>\n",
       "      <td>11.00</td>\n",
       "      <td>-5.17%</td>\n",
       "      <td>500</td>\n",
       "    </tr>\n",
       "    <tr>\n",
       "      <th>59</th>\n",
       "      <td>Nairobi Securities Exchange</td>\n",
       "      <td>7.34</td>\n",
       "      <td>6.92</td>\n",
       "      <td>-5.72%</td>\n",
       "      <td>61,700</td>\n",
       "    </tr>\n",
       "    <tr>\n",
       "      <th>60</th>\n",
       "      <td>Nairobi Business Ventures Limited</td>\n",
       "      <td>3.79</td>\n",
       "      <td>3.56</td>\n",
       "      <td>-6.07%</td>\n",
       "      <td>5,300</td>\n",
       "    </tr>\n",
       "    <tr>\n",
       "      <th>61</th>\n",
       "      <td>STANLIB FAHARI I-REIT</td>\n",
       "      <td>6.90</td>\n",
       "      <td>6.34</td>\n",
       "      <td>-8.12%</td>\n",
       "      <td>6,200</td>\n",
       "    </tr>\n",
       "  </tbody>\n",
       "</table>\n",
       "<p>62 rows × 5 columns</p>\n",
       "</div>"
      ],
      "text/plain": [
       "                                 stocks   prev     now percentage     volume\n",
       "0                      B.O.C Kenya Ltd.  77.00   82.75      7.47%        600\n",
       "1      TPS Eastern Africa Ltd. (Serena)  15.15   16.00      5.61%      3,000\n",
       "2                         Trans-Century   1.10    1.16      5.45%      2,500\n",
       "3               Liberty Kenya Holdings.   5.22    5.50      5.36%        400\n",
       "4                  Stanbic Holdings Plc  95.00  100.00      5.26%      1,000\n",
       "..                                  ...    ...     ...        ...        ...\n",
       "57  Kenya Power & Lighting Company Ltd.   1.94    1.84     -5.15%  2,683,400\n",
       "58                         Eaagads Ltd.  11.60   11.00     -5.17%        500\n",
       "59          Nairobi Securities Exchange   7.34    6.92     -5.72%     61,700\n",
       "60    Nairobi Business Ventures Limited   3.79    3.56     -6.07%      5,300\n",
       "61                STANLIB FAHARI I-REIT   6.90    6.34     -8.12%      6,200\n",
       "\n",
       "[62 rows x 5 columns]"
      ]
     },
     "execution_count": 6,
     "metadata": {},
     "output_type": "execute_result"
    }
   ],
   "source": [
    "\n",
    "df = pd.DataFrame(stock_result)\n",
    "df"
   ]
  },
  {
   "cell_type": "code",
   "execution_count": 8,
   "id": "90491ee1",
   "metadata": {},
   "outputs": [
    {
     "ename": "ModuleNotFoundError",
     "evalue": "No module named 'openpyxl'",
     "output_type": "error",
     "traceback": [
      "\u001b[0;31m---------------------------------------------------------------------------\u001b[0m",
      "\u001b[0;31mModuleNotFoundError\u001b[0m                       Traceback (most recent call last)",
      "Input \u001b[0;32mIn [8]\u001b[0m, in \u001b[0;36m<cell line: 1>\u001b[0;34m()\u001b[0m\n\u001b[0;32m----> 1\u001b[0m \u001b[43mdf\u001b[49m\u001b[38;5;241;43m.\u001b[39;49m\u001b[43mto_excel\u001b[49m\u001b[43m(\u001b[49m\u001b[38;5;124;43m'\u001b[39;49m\u001b[38;5;124;43mnse_share_prices.xlsx\u001b[39;49m\u001b[38;5;124;43m'\u001b[39;49m\u001b[43m,\u001b[49m\u001b[43m \u001b[49m\u001b[43mindex\u001b[49m\u001b[38;5;241;43m=\u001b[39;49m\u001b[38;5;28;43;01mFalse\u001b[39;49;00m\u001b[43m)\u001b[49m\n",
      "File \u001b[0;32m~/opt/miniconda3/lib/python3.9/site-packages/pandas/util/_decorators.py:211\u001b[0m, in \u001b[0;36mdeprecate_kwarg.<locals>._deprecate_kwarg.<locals>.wrapper\u001b[0;34m(*args, **kwargs)\u001b[0m\n\u001b[1;32m    209\u001b[0m     \u001b[38;5;28;01melse\u001b[39;00m:\n\u001b[1;32m    210\u001b[0m         kwargs[new_arg_name] \u001b[38;5;241m=\u001b[39m new_arg_value\n\u001b[0;32m--> 211\u001b[0m \u001b[38;5;28;01mreturn\u001b[39;00m \u001b[43mfunc\u001b[49m\u001b[43m(\u001b[49m\u001b[38;5;241;43m*\u001b[39;49m\u001b[43margs\u001b[49m\u001b[43m,\u001b[49m\u001b[43m \u001b[49m\u001b[38;5;241;43m*\u001b[39;49m\u001b[38;5;241;43m*\u001b[39;49m\u001b[43mkwargs\u001b[49m\u001b[43m)\u001b[49m\n",
      "File \u001b[0;32m~/opt/miniconda3/lib/python3.9/site-packages/pandas/util/_decorators.py:211\u001b[0m, in \u001b[0;36mdeprecate_kwarg.<locals>._deprecate_kwarg.<locals>.wrapper\u001b[0;34m(*args, **kwargs)\u001b[0m\n\u001b[1;32m    209\u001b[0m     \u001b[38;5;28;01melse\u001b[39;00m:\n\u001b[1;32m    210\u001b[0m         kwargs[new_arg_name] \u001b[38;5;241m=\u001b[39m new_arg_value\n\u001b[0;32m--> 211\u001b[0m \u001b[38;5;28;01mreturn\u001b[39;00m \u001b[43mfunc\u001b[49m\u001b[43m(\u001b[49m\u001b[38;5;241;43m*\u001b[39;49m\u001b[43margs\u001b[49m\u001b[43m,\u001b[49m\u001b[43m \u001b[49m\u001b[38;5;241;43m*\u001b[39;49m\u001b[38;5;241;43m*\u001b[39;49m\u001b[43mkwargs\u001b[49m\u001b[43m)\u001b[49m\n",
      "File \u001b[0;32m~/opt/miniconda3/lib/python3.9/site-packages/pandas/core/generic.py:2373\u001b[0m, in \u001b[0;36mNDFrame.to_excel\u001b[0;34m(self, excel_writer, sheet_name, na_rep, float_format, columns, header, index, index_label, startrow, startcol, engine, merge_cells, encoding, inf_rep, verbose, freeze_panes, storage_options)\u001b[0m\n\u001b[1;32m   2360\u001b[0m \u001b[38;5;28;01mfrom\u001b[39;00m \u001b[38;5;21;01mpandas\u001b[39;00m\u001b[38;5;21;01m.\u001b[39;00m\u001b[38;5;21;01mio\u001b[39;00m\u001b[38;5;21;01m.\u001b[39;00m\u001b[38;5;21;01mformats\u001b[39;00m\u001b[38;5;21;01m.\u001b[39;00m\u001b[38;5;21;01mexcel\u001b[39;00m \u001b[38;5;28;01mimport\u001b[39;00m ExcelFormatter\n\u001b[1;32m   2362\u001b[0m formatter \u001b[38;5;241m=\u001b[39m ExcelFormatter(\n\u001b[1;32m   2363\u001b[0m     df,\n\u001b[1;32m   2364\u001b[0m     na_rep\u001b[38;5;241m=\u001b[39mna_rep,\n\u001b[0;32m   (...)\u001b[0m\n\u001b[1;32m   2371\u001b[0m     inf_rep\u001b[38;5;241m=\u001b[39minf_rep,\n\u001b[1;32m   2372\u001b[0m )\n\u001b[0;32m-> 2373\u001b[0m \u001b[43mformatter\u001b[49m\u001b[38;5;241;43m.\u001b[39;49m\u001b[43mwrite\u001b[49m\u001b[43m(\u001b[49m\n\u001b[1;32m   2374\u001b[0m \u001b[43m    \u001b[49m\u001b[43mexcel_writer\u001b[49m\u001b[43m,\u001b[49m\n\u001b[1;32m   2375\u001b[0m \u001b[43m    \u001b[49m\u001b[43msheet_name\u001b[49m\u001b[38;5;241;43m=\u001b[39;49m\u001b[43msheet_name\u001b[49m\u001b[43m,\u001b[49m\n\u001b[1;32m   2376\u001b[0m \u001b[43m    \u001b[49m\u001b[43mstartrow\u001b[49m\u001b[38;5;241;43m=\u001b[39;49m\u001b[43mstartrow\u001b[49m\u001b[43m,\u001b[49m\n\u001b[1;32m   2377\u001b[0m \u001b[43m    \u001b[49m\u001b[43mstartcol\u001b[49m\u001b[38;5;241;43m=\u001b[39;49m\u001b[43mstartcol\u001b[49m\u001b[43m,\u001b[49m\n\u001b[1;32m   2378\u001b[0m \u001b[43m    \u001b[49m\u001b[43mfreeze_panes\u001b[49m\u001b[38;5;241;43m=\u001b[39;49m\u001b[43mfreeze_panes\u001b[49m\u001b[43m,\u001b[49m\n\u001b[1;32m   2379\u001b[0m \u001b[43m    \u001b[49m\u001b[43mengine\u001b[49m\u001b[38;5;241;43m=\u001b[39;49m\u001b[43mengine\u001b[49m\u001b[43m,\u001b[49m\n\u001b[1;32m   2380\u001b[0m \u001b[43m    \u001b[49m\u001b[43mstorage_options\u001b[49m\u001b[38;5;241;43m=\u001b[39;49m\u001b[43mstorage_options\u001b[49m\u001b[43m,\u001b[49m\n\u001b[1;32m   2381\u001b[0m \u001b[43m\u001b[49m\u001b[43m)\u001b[49m\n",
      "File \u001b[0;32m~/opt/miniconda3/lib/python3.9/site-packages/pandas/io/formats/excel.py:911\u001b[0m, in \u001b[0;36mExcelFormatter.write\u001b[0;34m(self, writer, sheet_name, startrow, startcol, freeze_panes, engine, storage_options)\u001b[0m\n\u001b[1;32m    907\u001b[0m     need_save \u001b[38;5;241m=\u001b[39m \u001b[38;5;28;01mFalse\u001b[39;00m\n\u001b[1;32m    908\u001b[0m \u001b[38;5;28;01melse\u001b[39;00m:\n\u001b[1;32m    909\u001b[0m     \u001b[38;5;66;03m# error: Cannot instantiate abstract class 'ExcelWriter' with abstract\u001b[39;00m\n\u001b[1;32m    910\u001b[0m     \u001b[38;5;66;03m# attributes 'engine', 'save', 'supported_extensions' and 'write_cells'\u001b[39;00m\n\u001b[0;32m--> 911\u001b[0m     writer \u001b[38;5;241m=\u001b[39m \u001b[43mExcelWriter\u001b[49m\u001b[43m(\u001b[49m\u001b[43m  \u001b[49m\u001b[38;5;66;43;03m# type: ignore[abstract]\u001b[39;49;00m\n\u001b[1;32m    912\u001b[0m \u001b[43m        \u001b[49m\u001b[43mwriter\u001b[49m\u001b[43m,\u001b[49m\u001b[43m \u001b[49m\u001b[43mengine\u001b[49m\u001b[38;5;241;43m=\u001b[39;49m\u001b[43mengine\u001b[49m\u001b[43m,\u001b[49m\u001b[43m \u001b[49m\u001b[43mstorage_options\u001b[49m\u001b[38;5;241;43m=\u001b[39;49m\u001b[43mstorage_options\u001b[49m\n\u001b[1;32m    913\u001b[0m \u001b[43m    \u001b[49m\u001b[43m)\u001b[49m\n\u001b[1;32m    914\u001b[0m     need_save \u001b[38;5;241m=\u001b[39m \u001b[38;5;28;01mTrue\u001b[39;00m\n\u001b[1;32m    916\u001b[0m \u001b[38;5;28;01mtry\u001b[39;00m:\n",
      "File \u001b[0;32m~/opt/miniconda3/lib/python3.9/site-packages/pandas/io/excel/_openpyxl.py:56\u001b[0m, in \u001b[0;36mOpenpyxlWriter.__init__\u001b[0;34m(self, path, engine, date_format, datetime_format, mode, storage_options, if_sheet_exists, engine_kwargs, **kwargs)\u001b[0m\n\u001b[1;32m     43\u001b[0m \u001b[38;5;28;01mdef\u001b[39;00m \u001b[38;5;21m__init__\u001b[39m(\n\u001b[1;32m     44\u001b[0m     \u001b[38;5;28mself\u001b[39m,\n\u001b[1;32m     45\u001b[0m     path: FilePath \u001b[38;5;241m|\u001b[39m WriteExcelBuffer \u001b[38;5;241m|\u001b[39m ExcelWriter,\n\u001b[0;32m   (...)\u001b[0m\n\u001b[1;32m     54\u001b[0m ) \u001b[38;5;241m-\u001b[39m\u001b[38;5;241m>\u001b[39m \u001b[38;5;28;01mNone\u001b[39;00m:\n\u001b[1;32m     55\u001b[0m     \u001b[38;5;66;03m# Use the openpyxl module as the Excel writer.\u001b[39;00m\n\u001b[0;32m---> 56\u001b[0m     \u001b[38;5;28;01mfrom\u001b[39;00m \u001b[38;5;21;01mopenpyxl\u001b[39;00m\u001b[38;5;21;01m.\u001b[39;00m\u001b[38;5;21;01mworkbook\u001b[39;00m \u001b[38;5;28;01mimport\u001b[39;00m Workbook\n\u001b[1;32m     58\u001b[0m     engine_kwargs \u001b[38;5;241m=\u001b[39m combine_kwargs(engine_kwargs, kwargs)\n\u001b[1;32m     60\u001b[0m     \u001b[38;5;28msuper\u001b[39m()\u001b[38;5;241m.\u001b[39m\u001b[38;5;21m__init__\u001b[39m(\n\u001b[1;32m     61\u001b[0m         path,\n\u001b[1;32m     62\u001b[0m         mode\u001b[38;5;241m=\u001b[39mmode,\n\u001b[0;32m   (...)\u001b[0m\n\u001b[1;32m     65\u001b[0m         engine_kwargs\u001b[38;5;241m=\u001b[39mengine_kwargs,\n\u001b[1;32m     66\u001b[0m     )\n",
      "\u001b[0;31mModuleNotFoundError\u001b[0m: No module named 'openpyxl'"
     ]
    }
   ],
   "source": [
    "df.to_excel('nse_share_prices.xlsx', index=False)"
   ]
  },
  {
   "cell_type": "code",
   "execution_count": 8,
   "id": "2a2bed38",
   "metadata": {},
   "outputs": [],
   "source": [
    "driver.close()"
   ]
  },
  {
   "cell_type": "code",
   "execution_count": 9,
   "id": "4ff5b88f",
   "metadata": {},
   "outputs": [
    {
     "data": {
      "text/plain": [
       "'D:\\\\OneDrive\\\\Documents\\\\SQL\\\\PostgreSQL\\\\Python\\\\Projects\\\\NSE_Data\\\\nse_share_prices_20221023.xlsx'"
      ]
     },
     "execution_count": 9,
     "metadata": {},
     "output_type": "execute_result"
    }
   ],
   "source": [
    "import datetime\n",
    "def _getToday():\n",
    "        return datetime.date.today().strftime(\"%Y%m%d\")\n",
    "outpath = r\"D:\\OneDrive\\Documents\\SQL\\PostgreSQL\\Python\\Projects\\NSE_Data\"\n",
    "filename = \"%s_%s%s\" % (\"nse_share_prices\", _getToday() ,\".xlsx\")\n",
    "filename_1 = outpath + \"\\\\\" + filename\n",
    "filename_1"
   ]
  },
  {
   "cell_type": "code",
   "execution_count": 10,
   "id": "425f6391",
   "metadata": {},
   "outputs": [
    {
     "name": "stdout",
     "output_type": "stream",
     "text": [
      "Before copying file:\n",
      "['.ipynb_checkpoints', 'Beautiful_Soup.py', 'Beautiful_Soup_4_Tutorial_1.ipynb', 'Beautiful_Soup_4_Tutorial_2.ipynb', 'Coinmarketcap.ipynb', 'coinmarketcap.xlsx', 'Downloads', 'geckodriver.log', 'index.html', 'index2.html', 'NSE.ipynb', 'NSE.py', 'NSE2.ipynb', 'NSE2.py', 'NSE3.ipynb', 'NSE_bs4.ipynb', 'NSE_mac.ipynb', 'nse_share_prices.xlsx', 'nse_share_prices_20221019.xlsx', 'nse_share_prices_20221020.xlsx', 'nse_share_prices_20221022.xlsx', 'nse_share_prices_20221023.xlsx', 'population_scraping_result.xlsx', 'Scheduled_running_code.ipynb', 'stocks_scraping_result.xlsx', 'Test.ipynb', 'Test.py', 'Untitled1.ipynb', 'web_scraping.ipynb']\n",
      "After copying file:\n",
      "['.ipynb_checkpoints', 'Beautiful_Soup.py', 'Beautiful_Soup_4_Tutorial_1.ipynb', 'Beautiful_Soup_4_Tutorial_2.ipynb', 'Coinmarketcap.ipynb', 'coinmarketcap.xlsx', 'Downloads', 'geckodriver.log', 'index.html', 'index2.html', 'NSE.ipynb', 'NSE.py', 'NSE2.ipynb', 'NSE2.py', 'NSE3.ipynb', 'NSE_bs4.ipynb', 'NSE_mac.ipynb', 'nse_share_prices.xlsx', 'nse_share_prices_20221019.xlsx', 'nse_share_prices_20221020.xlsx', 'nse_share_prices_20221022.xlsx', 'nse_share_prices_20221023.xlsx', 'population_scraping_result.xlsx', 'Scheduled_running_code.ipynb', 'stocks_scraping_result.xlsx', 'Test.ipynb', 'Test.py', 'Untitled1.ipynb', 'web_scraping.ipynb']\n",
      "Path of the duplicate file is:\n",
      "D:\\OneDrive\\Documents\\SQL\\PostgreSQL\\Python\\Projects\\NSE_Data\\nse_share_prices_20221023.xlsx\n",
      "After copying file:\n",
      "['.ipynb_checkpoints', 'Beautiful_Soup.py', 'Beautiful_Soup_4_Tutorial_1.ipynb', 'Beautiful_Soup_4_Tutorial_2.ipynb', 'Coinmarketcap.ipynb', 'coinmarketcap.xlsx', 'Downloads', 'geckodriver.log', 'index.html', 'index2.html', 'NSE.ipynb', 'NSE.py', 'NSE2.ipynb', 'NSE2.py', 'NSE3.ipynb', 'NSE_bs4.ipynb', 'NSE_mac.ipynb', 'nse_share_prices.xlsx', 'nse_share_prices_20221019.xlsx', 'nse_share_prices_20221020.xlsx', 'nse_share_prices_20221022.xlsx', 'nse_share_prices_20221023.xlsx', 'population_scraping_result.xlsx', 'Scheduled_running_code.ipynb', 'stocks_scraping_result.xlsx', 'Test.ipynb', 'Test.py', 'Untitled1.ipynb', 'web_scraping.ipynb']\n"
     ]
    }
   ],
   "source": [
    "# Python program to create the duplicate of\n",
    "# an already existing file\n",
    "\n",
    "import os\n",
    "D = r\"D:\\OneDrive\\Documents\\SQL\\PostgreSQL\\Python\\Projects\\NSE_Data\"\n",
    "\n",
    "# importing the shutil module\n",
    "import shutil\n",
    "\n",
    "\n",
    "print(\"Before copying file:\")\n",
    "print(os.listdir(D))\n",
    "\n",
    "# src contains the path of the source file\n",
    "src = r\"D:\\OneDrive\\Documents\\SQL\\PostgreSQL\\Python\\Projects\\NSE_Data\\nse_share_prices.xlsx\"\n",
    "\n",
    "# dest contains the path of the destination file\n",
    "dest = filename_1\n",
    "\n",
    "# create duplicate of the file at the destination,\n",
    "# with the name mentioned\n",
    "# at the end of the destination path\n",
    "# if a file with the same name doesn't already\n",
    "# exist at the destination,\n",
    "# a new file with the name mentioned is created\n",
    "path = shutil.copyfile(src, dest)\n",
    "\n",
    "print(\"After copying file:\")\n",
    "print(os.listdir(D))\n",
    "\n",
    "# print path of the newly created duplicate file\n",
    "print(\"Path of the duplicate file is:\")\n",
    "print(path)\n",
    "\n",
    "\n",
    "# create duplicate of the file at the destination,\n",
    "# with the name mentioned\n",
    "# at the end of the destination path\n",
    "# if a file with the same name doesn't already\n",
    "# exist at the destination,\n",
    "# a new file with the name mentioned is created\n",
    "path = shutil.copyfile(src, dest)\n",
    "\n",
    "print(\"After copying file:\")\n",
    "print(os.listdir(D))"
   ]
  }
 ],
 "metadata": {
  "kernelspec": {
   "display_name": "Python 3 (ipykernel)",
   "language": "python",
   "name": "python3"
  },
  "language_info": {
   "codemirror_mode": {
    "name": "ipython",
    "version": 3
   },
   "file_extension": ".py",
   "mimetype": "text/x-python",
   "name": "python",
   "nbconvert_exporter": "python",
   "pygments_lexer": "ipython3",
   "version": "3.9.12"
  }
 },
 "nbformat": 4,
 "nbformat_minor": 5
}
