{
 "cells": [
  {
   "cell_type": "code",
   "execution_count": 2,
   "id": "927d5b80",
   "metadata": {},
   "outputs": [
    {
     "name": "stderr",
     "output_type": "stream",
     "text": [
      "C:\\Users\\Kingori\\AppData\\Local\\Temp\\ipykernel_2924\\3780900743.py:14: DeprecationWarning: executable_path has been deprecated, please pass in a Service object\n",
      "  driver = webdriver.Chrome(executable_path=r\"C:\\Users\\Kingori\\Downloads\\chromedriver.exe\")\n"
     ]
    },
    {
     "name": "stdout",
     "output_type": "stream",
     "text": [
      "64\n",
      "64\n",
      "63\n",
      "64\n",
      "Before copying file:\n",
      "['.ipynb_checkpoints', 'Beautiful_Soup.py', 'Beautiful_Soup_4_Tutorial_1.ipynb', 'Beautiful_Soup_4_Tutorial_2.ipynb', 'Coingecko.ipynb', 'Coingecko.xlsx', 'Coinmarketcap.ipynb', 'coinmarketcap.xlsx', 'Downloads', 'geckodriver.log', 'index.html', 'index2.html', 'NSE.ipynb', 'NSE.py', 'NSE2.ipynb', 'NSE2.py', 'NSE3.ipynb', 'NSE3_v2.ipynb', 'NSE_bs4.ipynb', 'NSE_mac.ipynb', 'nse_share_prices-Kingori.xlsx', 'nse_share_prices.xlsx', 'nse_share_prices_20221019.xlsx', 'nse_share_prices_20221020.xlsx', 'nse_share_prices_20221022.xlsx', 'nse_share_prices_20221023.xlsx', 'nse_share_prices_20221024.xlsx', 'nse_share_prices_20221025.xlsx', 'nse_share_prices_20221026.xlsx', 'nse_share_prices_20221027.xlsx', 'nse_share_prices_20221028.xlsx', 'nse_share_prices_20221029.xlsx', 'population_scraping_result.xlsx', 'Scheduled_running_code.ipynb', 'stocks_scraping_result.xlsx', 'Test.ipynb', 'Test.py', 'Untitled.ipynb', 'Untitled1.ipynb', 'web_scraping.ipynb']\n",
      "File copied successfully.\n",
      "After copying file:\n",
      "['.ipynb_checkpoints', 'Beautiful_Soup.py', 'Beautiful_Soup_4_Tutorial_1.ipynb', 'Beautiful_Soup_4_Tutorial_2.ipynb', 'Coingecko.ipynb', 'Coingecko.xlsx', 'Coinmarketcap.ipynb', 'coinmarketcap.xlsx', 'Downloads', 'geckodriver.log', 'index.html', 'index2.html', 'NSE.ipynb', 'NSE.py', 'NSE2.ipynb', 'NSE2.py', 'NSE3.ipynb', 'NSE3_v2.ipynb', 'NSE_bs4.ipynb', 'NSE_mac.ipynb', 'nse_share_prices-Kingori.xlsx', 'nse_share_prices.xlsx', 'nse_share_prices_20221019.xlsx', 'nse_share_prices_20221020.xlsx', 'nse_share_prices_20221022.xlsx', 'nse_share_prices_20221023.xlsx', 'nse_share_prices_20221024.xlsx', 'nse_share_prices_20221025.xlsx', 'nse_share_prices_20221026.xlsx', 'nse_share_prices_20221027.xlsx', 'nse_share_prices_20221028.xlsx', 'nse_share_prices_20221029.xlsx', 'nse_share_prices_20221112.xlsx', 'population_scraping_result.xlsx', 'Scheduled_running_code.ipynb', 'stocks_scraping_result.xlsx', 'Test.ipynb', 'Test.py', 'Untitled.ipynb', 'Untitled1.ipynb', 'web_scraping.ipynb']\n"
     ]
    },
    {
     "data": {
      "text/plain": [
       "'\\nschedule.every(20).seconds.do(get_prices)\\n\\nwhile True:\\n    schedule.run_pending()\\n    time.sleep(1)'"
      ]
     },
     "execution_count": 2,
     "metadata": {},
     "output_type": "execute_result"
    }
   ],
   "source": [
    "# %load \"C:\\Users\\Kingori\\Downloads\\NSE2.py\"\n",
    "#!/usr/bin/env python\n",
    "\n",
    "from selenium import webdriver\n",
    "from selenium.webdriver.common.by import By\n",
    "import schedule\n",
    "import shutil\n",
    "import os\n",
    "import pandas as pd\n",
    "import time\n",
    "\n",
    "def get_prices():\n",
    "\n",
    "    driver = webdriver.Chrome()\n",
    "    driver.get('https://www.rich.co.ke/rcdata/nsestocks.php')\n",
    "    driver.maximize_window\n",
    "   \n",
    "    stocks = driver.find_elements(By.XPATH, '//tr/td/a')[11:75]\n",
    "    prev = driver.find_elements(By.XPATH, '//tr/td[3]')[2:]\n",
    "    now = driver.find_elements(By.XPATH, '//tr/td[4]')[1:]\n",
    "    percentage = driver.find_elements(By.XPATH, '//tr/td[5]')[1:]\n",
    "    volume = driver.find_elements(By.XPATH, '//tr/td[7]')[1:]\n",
    "\n",
    "    \"\"\"\n",
    "    # To confirm if code works:\n",
    "\n",
    "    for stocks in stocks:\n",
    "         print(stocks.text) \n",
    "\n",
    "    \"\"\"\n",
    "\n",
    "    print(len(stocks))\n",
    "    print(len(prev))\n",
    "    print(len(now))\n",
    "    print(len(prev))\n",
    "\n",
    "    # To loop over all lists and get text elements:\n",
    "\n",
    "    stock_result = []\n",
    "\n",
    "    # to get length of the rows. Can use len(countries, popultaion or world_share)\n",
    "\n",
    "    for i in range(len(volume)):\n",
    "        temporary_data = {\n",
    "            'stocks': stocks[i].text,\n",
    "            'prev': prev[i].text,\n",
    "            'now': now[i].text,\n",
    "            'percentage': percentage[i].text,\n",
    "            'volume': volume[i].text}\n",
    "\n",
    "        stock_result.append(temporary_data)\n",
    "\n",
    "    df = pd.DataFrame(stock_result)\n",
    "    df\n",
    "\n",
    "    df.to_excel('nse_share_prices.xlsx', index=False)\n",
    "\n",
    "    driver.close()\n",
    "\n",
    "    import datetime\n",
    "    def _getToday():\n",
    "            return datetime.date.today().strftime(\"%Y%m%d\") #to get current date\n",
    "    outpath = r\"D:\\OneDrive\\Documents\\SQL\\PostgreSQL\\Python\\Projects\\NSE_Data\"\n",
    "    filename = \"%s_%s%s\" % (\"nse_share_prices\", _getToday() ,\".xlsx\") #create a filename (string) with today's date\n",
    "    outpath_1 = outpath + \"\\\\\" + filename\n",
    "    outpath_1\n",
    "\n",
    "    # Use OS module\n",
    "    # Create the duplicate of an already existing file\n",
    "\n",
    "    D = r\"D:\\OneDrive\\Documents\\SQL\\PostgreSQL\\Python\\Projects\\NSE_Data\"\n",
    "\n",
    "    print(\"Before copying file:\")\n",
    "    print(os.listdir(D))\n",
    "    \n",
    "        # src contains the path of the source file\n",
    "    src = r\"D:\\OneDrive\\Documents\\SQL\\PostgreSQL\\Python\\Projects\\NSE_Data\\nse_share_prices.xlsx\"\n",
    "\n",
    "    # dest contains the path of the destination file\n",
    "    dest = outpath_1\n",
    "\n",
    "    # create duplicate of the file at the destination,\n",
    "    # with the name mentioned\n",
    "    # at the end of the destination path\n",
    "    # if a file with the same name doesn't already\n",
    "    # exist at the destination,\n",
    "    # a new file with the name mentioned is created\n",
    "\n",
    "    shutil.copyfile(src, dest)\n",
    "    print(\"File copied successfully.\")\n",
    "    \n",
    "    print(\"After copying file:\")\n",
    "    print(os.listdir(D))\n",
    "\n",
    "get_prices()\n",
    "\n",
    "\"\"\"\n",
    "schedule.every(20).seconds.do(get_prices)\n",
    "\n",
    "while True:\n",
    "    schedule.run_pending()\n",
    "    time.sleep(1)\"\"\""
   ]
  },
  {
   "cell_type": "code",
   "execution_count": null,
   "id": "a6919c53",
   "metadata": {},
   "outputs": [],
   "source": []
  }
 ],
 "metadata": {
  "kernelspec": {
   "display_name": "Python 3 (ipykernel)",
   "language": "python",
   "name": "python3"
  },
  "language_info": {
   "codemirror_mode": {
    "name": "ipython",
    "version": 3
   },
   "file_extension": ".py",
   "mimetype": "text/x-python",
   "name": "python",
   "nbconvert_exporter": "python",
   "pygments_lexer": "ipython3",
   "version": "3.9.12"
  }
 },
 "nbformat": 4,
 "nbformat_minor": 5
}
